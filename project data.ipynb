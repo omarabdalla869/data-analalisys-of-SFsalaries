{
 "cells": [
  {
   "cell_type": "code",
   "execution_count": 2,
   "id": "8610e4a3-4dd3-4ad3-90dd-f7e4e5c6cc5a",
   "metadata": {},
   "outputs": [],
   "source": [
    "import pandas as pd\n",
    "import numpy as np\n",
    "import matplotlib.pyplot as plt\n",
    "import seaborn as sns\n"
   ]
  },
  {
   "cell_type": "markdown",
   "id": "fd080861-6379-452a-bca3-ecf23766e2bf",
   "metadata": {},
   "source": [
    "READ AND SHOW DATA\n"
   ]
  },
  {
   "cell_type": "code",
   "execution_count": 17,
   "id": "430616d0-c1a7-4534-9ce4-524d92e82033",
   "metadata": {},
   "outputs": [
    {
     "data": {
      "text/html": [
       "<div>\n",
       "<style scoped>\n",
       "    .dataframe tbody tr th:only-of-type {\n",
       "        vertical-align: middle;\n",
       "    }\n",
       "\n",
       "    .dataframe tbody tr th {\n",
       "        vertical-align: top;\n",
       "    }\n",
       "\n",
       "    .dataframe thead th {\n",
       "        text-align: right;\n",
       "    }\n",
       "</style>\n",
       "<table border=\"1\" class=\"dataframe\">\n",
       "  <thead>\n",
       "    <tr style=\"text-align: right;\">\n",
       "      <th></th>\n",
       "      <th>Id</th>\n",
       "      <th>EmployeeName</th>\n",
       "      <th>JobTitle</th>\n",
       "      <th>BasePay</th>\n",
       "      <th>OvertimePay</th>\n",
       "      <th>OtherPay</th>\n",
       "      <th>Benefits</th>\n",
       "      <th>TotalPay</th>\n",
       "      <th>TotalPayBenefits</th>\n",
       "      <th>Year</th>\n",
       "      <th>Notes</th>\n",
       "      <th>Agency</th>\n",
       "      <th>Status</th>\n",
       "    </tr>\n",
       "  </thead>\n",
       "  <tbody>\n",
       "    <tr>\n",
       "      <th>75607</th>\n",
       "      <td>75608</td>\n",
       "      <td>Troy P Peele</td>\n",
       "      <td>Police Officer 3</td>\n",
       "      <td>123471.11</td>\n",
       "      <td>38332.87</td>\n",
       "      <td>3968.19</td>\n",
       "      <td>37055.22</td>\n",
       "      <td>165772.17</td>\n",
       "      <td>202827.39</td>\n",
       "      <td>2013</td>\n",
       "      <td>NaN</td>\n",
       "      <td>San Francisco</td>\n",
       "      <td>NaN</td>\n",
       "    </tr>\n",
       "    <tr>\n",
       "      <th>26586</th>\n",
       "      <td>26587</td>\n",
       "      <td>STEFAN ARCELONA</td>\n",
       "      <td>SOCIAL WORKER</td>\n",
       "      <td>40827.8</td>\n",
       "      <td>0</td>\n",
       "      <td>0</td>\n",
       "      <td>NaN</td>\n",
       "      <td>40827.80</td>\n",
       "      <td>40827.80</td>\n",
       "      <td>2011</td>\n",
       "      <td>NaN</td>\n",
       "      <td>San Francisco</td>\n",
       "      <td>NaN</td>\n",
       "    </tr>\n",
       "    <tr>\n",
       "      <th>69386</th>\n",
       "      <td>69387</td>\n",
       "      <td>Yohance Chism</td>\n",
       "      <td>Pool Lifeguard</td>\n",
       "      <td>7909.29</td>\n",
       "      <td>0</td>\n",
       "      <td>80.62</td>\n",
       "      <td>619.28</td>\n",
       "      <td>7989.91</td>\n",
       "      <td>8609.19</td>\n",
       "      <td>2012</td>\n",
       "      <td>NaN</td>\n",
       "      <td>San Francisco</td>\n",
       "      <td>NaN</td>\n",
       "    </tr>\n",
       "    <tr>\n",
       "      <th>34579</th>\n",
       "      <td>34580</td>\n",
       "      <td>DANA HERRON</td>\n",
       "      <td>TRANSIT OPERATOR</td>\n",
       "      <td>2380.5</td>\n",
       "      <td>0</td>\n",
       "      <td>0</td>\n",
       "      <td>NaN</td>\n",
       "      <td>2380.50</td>\n",
       "      <td>2380.50</td>\n",
       "      <td>2011</td>\n",
       "      <td>NaN</td>\n",
       "      <td>San Francisco</td>\n",
       "      <td>NaN</td>\n",
       "    </tr>\n",
       "    <tr>\n",
       "      <th>133783</th>\n",
       "      <td>133784</td>\n",
       "      <td>Lily Kang</td>\n",
       "      <td>Legal Secretary 1</td>\n",
       "      <td>61050.84</td>\n",
       "      <td>0</td>\n",
       "      <td>498.72</td>\n",
       "      <td>24527.11</td>\n",
       "      <td>61549.56</td>\n",
       "      <td>86076.67</td>\n",
       "      <td>2014</td>\n",
       "      <td>NaN</td>\n",
       "      <td>San Francisco</td>\n",
       "      <td>PT</td>\n",
       "    </tr>\n",
       "    <tr>\n",
       "      <th>125112</th>\n",
       "      <td>125113</td>\n",
       "      <td>Monaz J Singh</td>\n",
       "      <td>Protective Services Worker</td>\n",
       "      <td>94691.01</td>\n",
       "      <td>0</td>\n",
       "      <td>199.81</td>\n",
       "      <td>22245.43</td>\n",
       "      <td>94890.82</td>\n",
       "      <td>117136.25</td>\n",
       "      <td>2014</td>\n",
       "      <td>NaN</td>\n",
       "      <td>San Francisco</td>\n",
       "      <td>FT</td>\n",
       "    </tr>\n",
       "    <tr>\n",
       "      <th>143750</th>\n",
       "      <td>143751</td>\n",
       "      <td>Mark White</td>\n",
       "      <td>Special Nurse</td>\n",
       "      <td>8767.15</td>\n",
       "      <td>0</td>\n",
       "      <td>382.54</td>\n",
       "      <td>1965.01</td>\n",
       "      <td>9149.69</td>\n",
       "      <td>11114.70</td>\n",
       "      <td>2014</td>\n",
       "      <td>NaN</td>\n",
       "      <td>San Francisco</td>\n",
       "      <td>PT</td>\n",
       "    </tr>\n",
       "    <tr>\n",
       "      <th>14537</th>\n",
       "      <td>14538</td>\n",
       "      <td>DILLON DUTTON</td>\n",
       "      <td>SENIOR STATIONARY ENGINEER, SEWAGE PLANT</td>\n",
       "      <td>72377.17</td>\n",
       "      <td>2347.23</td>\n",
       "      <td>4987.58</td>\n",
       "      <td>NaN</td>\n",
       "      <td>79711.98</td>\n",
       "      <td>79711.98</td>\n",
       "      <td>2011</td>\n",
       "      <td>NaN</td>\n",
       "      <td>San Francisco</td>\n",
       "      <td>NaN</td>\n",
       "    </tr>\n",
       "    <tr>\n",
       "      <th>134676</th>\n",
       "      <td>134677</td>\n",
       "      <td>Zhihui Fan</td>\n",
       "      <td>Senior Laundry Worker</td>\n",
       "      <td>53121</td>\n",
       "      <td>2151.9</td>\n",
       "      <td>828.51</td>\n",
       "      <td>26519.6</td>\n",
       "      <td>56101.41</td>\n",
       "      <td>82621.01</td>\n",
       "      <td>2014</td>\n",
       "      <td>NaN</td>\n",
       "      <td>San Francisco</td>\n",
       "      <td>FT</td>\n",
       "    </tr>\n",
       "    <tr>\n",
       "      <th>148478</th>\n",
       "      <td>148479</td>\n",
       "      <td>Nelson A Solorzano</td>\n",
       "      <td>Museum Guard</td>\n",
       "      <td>173.69</td>\n",
       "      <td>0</td>\n",
       "      <td>0</td>\n",
       "      <td>1.74</td>\n",
       "      <td>173.69</td>\n",
       "      <td>175.43</td>\n",
       "      <td>2014</td>\n",
       "      <td>NaN</td>\n",
       "      <td>San Francisco</td>\n",
       "      <td>PT</td>\n",
       "    </tr>\n",
       "  </tbody>\n",
       "</table>\n",
       "</div>"
      ],
      "text/plain": [
       "            Id        EmployeeName                                  JobTitle  \\\n",
       "75607    75608        Troy P Peele                          Police Officer 3   \n",
       "26586    26587     STEFAN ARCELONA                             SOCIAL WORKER   \n",
       "69386    69387       Yohance Chism                            Pool Lifeguard   \n",
       "34579    34580         DANA HERRON                          TRANSIT OPERATOR   \n",
       "133783  133784           Lily Kang                         Legal Secretary 1   \n",
       "125112  125113       Monaz J Singh                Protective Services Worker   \n",
       "143750  143751          Mark White                             Special Nurse   \n",
       "14537    14538       DILLON DUTTON  SENIOR STATIONARY ENGINEER, SEWAGE PLANT   \n",
       "134676  134677          Zhihui Fan                     Senior Laundry Worker   \n",
       "148478  148479  Nelson A Solorzano                              Museum Guard   \n",
       "\n",
       "          BasePay OvertimePay OtherPay  Benefits   TotalPay  TotalPayBenefits  \\\n",
       "75607   123471.11    38332.87  3968.19  37055.22  165772.17         202827.39   \n",
       "26586     40827.8           0        0       NaN   40827.80          40827.80   \n",
       "69386     7909.29           0    80.62    619.28    7989.91           8609.19   \n",
       "34579      2380.5           0        0       NaN    2380.50           2380.50   \n",
       "133783   61050.84           0   498.72  24527.11   61549.56          86076.67   \n",
       "125112   94691.01           0   199.81  22245.43   94890.82         117136.25   \n",
       "143750    8767.15           0   382.54   1965.01    9149.69          11114.70   \n",
       "14537    72377.17     2347.23  4987.58       NaN   79711.98          79711.98   \n",
       "134676      53121      2151.9   828.51   26519.6   56101.41          82621.01   \n",
       "148478     173.69           0        0      1.74     173.69            175.43   \n",
       "\n",
       "        Year  Notes         Agency Status  \n",
       "75607   2013    NaN  San Francisco    NaN  \n",
       "26586   2011    NaN  San Francisco    NaN  \n",
       "69386   2012    NaN  San Francisco    NaN  \n",
       "34579   2011    NaN  San Francisco    NaN  \n",
       "133783  2014    NaN  San Francisco     PT  \n",
       "125112  2014    NaN  San Francisco     FT  \n",
       "143750  2014    NaN  San Francisco     PT  \n",
       "14537   2011    NaN  San Francisco    NaN  \n",
       "134676  2014    NaN  San Francisco     FT  \n",
       "148478  2014    NaN  San Francisco     PT  "
      ]
     },
     "execution_count": 17,
     "metadata": {},
     "output_type": "execute_result"
    }
   ],
   "source": [
    "dt=pd.read_csv('SFsalaries.csv',low_memory=False)\n",
    "dt.sample(10)"
   ]
  },
  {
   "cell_type": "code",
   "execution_count": null,
   "id": "c94de55b-7fda-4972-9714-8f073342e3ca",
   "metadata": {},
   "outputs": [],
   "source": [
    "dt.set_index('Id',inplace=True)"
   ]
  },
  {
   "cell_type": "code",
   "execution_count": 19,
   "id": "c96d5a80-a4f2-42bf-acba-4af74a1edac7",
   "metadata": {},
   "outputs": [],
   "source": [
    "dt.rename(columns={'EmployeeName':'Emp_n','TotalPayBenefits':'profits','OvertimePay':'OT_Pay'},inplace=True)"
   ]
  },
  {
   "cell_type": "code",
   "execution_count": 20,
   "id": "1e669142-594e-4436-949c-56857834074a",
   "metadata": {},
   "outputs": [
    {
     "data": {
      "text/html": [
       "<div>\n",
       "<style scoped>\n",
       "    .dataframe tbody tr th:only-of-type {\n",
       "        vertical-align: middle;\n",
       "    }\n",
       "\n",
       "    .dataframe tbody tr th {\n",
       "        vertical-align: top;\n",
       "    }\n",
       "\n",
       "    .dataframe thead th {\n",
       "        text-align: right;\n",
       "    }\n",
       "</style>\n",
       "<table border=\"1\" class=\"dataframe\">\n",
       "  <thead>\n",
       "    <tr style=\"text-align: right;\">\n",
       "      <th></th>\n",
       "      <th>Id</th>\n",
       "      <th>Emp_n</th>\n",
       "      <th>JobTitle</th>\n",
       "      <th>BasePay</th>\n",
       "      <th>OT_Pay</th>\n",
       "      <th>OtherPay</th>\n",
       "      <th>Benefits</th>\n",
       "      <th>TotalPay</th>\n",
       "      <th>profits</th>\n",
       "      <th>Year</th>\n",
       "      <th>Notes</th>\n",
       "      <th>Agency</th>\n",
       "      <th>Status</th>\n",
       "    </tr>\n",
       "  </thead>\n",
       "  <tbody>\n",
       "    <tr>\n",
       "      <th>0</th>\n",
       "      <td>1</td>\n",
       "      <td>NATHANIEL FORD</td>\n",
       "      <td>GENERAL MANAGER-METROPOLITAN TRANSIT AUTHORITY</td>\n",
       "      <td>167411.18</td>\n",
       "      <td>0</td>\n",
       "      <td>400184.25</td>\n",
       "      <td>NaN</td>\n",
       "      <td>567595.43</td>\n",
       "      <td>567595.43</td>\n",
       "      <td>2011</td>\n",
       "      <td>NaN</td>\n",
       "      <td>San Francisco</td>\n",
       "      <td>NaN</td>\n",
       "    </tr>\n",
       "    <tr>\n",
       "      <th>1</th>\n",
       "      <td>2</td>\n",
       "      <td>GARY JIMENEZ</td>\n",
       "      <td>CAPTAIN III (POLICE DEPARTMENT)</td>\n",
       "      <td>155966.02</td>\n",
       "      <td>245131.88</td>\n",
       "      <td>137811.38</td>\n",
       "      <td>NaN</td>\n",
       "      <td>538909.28</td>\n",
       "      <td>538909.28</td>\n",
       "      <td>2011</td>\n",
       "      <td>NaN</td>\n",
       "      <td>San Francisco</td>\n",
       "      <td>NaN</td>\n",
       "    </tr>\n",
       "  </tbody>\n",
       "</table>\n",
       "</div>"
      ],
      "text/plain": [
       "   Id           Emp_n                                        JobTitle  \\\n",
       "0   1  NATHANIEL FORD  GENERAL MANAGER-METROPOLITAN TRANSIT AUTHORITY   \n",
       "1   2    GARY JIMENEZ                 CAPTAIN III (POLICE DEPARTMENT)   \n",
       "\n",
       "     BasePay     OT_Pay   OtherPay Benefits   TotalPay    profits  Year  \\\n",
       "0  167411.18          0  400184.25      NaN  567595.43  567595.43  2011   \n",
       "1  155966.02  245131.88  137811.38      NaN  538909.28  538909.28  2011   \n",
       "\n",
       "   Notes         Agency Status  \n",
       "0    NaN  San Francisco    NaN  \n",
       "1    NaN  San Francisco    NaN  "
      ]
     },
     "execution_count": 20,
     "metadata": {},
     "output_type": "execute_result"
    }
   ],
   "source": [
    "dt.head(2)"
   ]
  },
  {
   "cell_type": "code",
   "execution_count": 22,
   "id": "fcf22f62-aa9f-4cea-b1b8-dc2193af7992",
   "metadata": {},
   "outputs": [
    {
     "data": {
      "text/html": [
       "<div>\n",
       "<style scoped>\n",
       "    .dataframe tbody tr th:only-of-type {\n",
       "        vertical-align: middle;\n",
       "    }\n",
       "\n",
       "    .dataframe tbody tr th {\n",
       "        vertical-align: top;\n",
       "    }\n",
       "\n",
       "    .dataframe thead th {\n",
       "        text-align: right;\n",
       "    }\n",
       "</style>\n",
       "<table border=\"1\" class=\"dataframe\">\n",
       "  <thead>\n",
       "    <tr style=\"text-align: right;\">\n",
       "      <th></th>\n",
       "      <th>Id</th>\n",
       "      <th>TotalPay</th>\n",
       "      <th>profits</th>\n",
       "      <th>Year</th>\n",
       "      <th>Notes</th>\n",
       "    </tr>\n",
       "  </thead>\n",
       "  <tbody>\n",
       "    <tr>\n",
       "      <th>count</th>\n",
       "      <td>148654.000000</td>\n",
       "      <td>148654.000000</td>\n",
       "      <td>148654.000000</td>\n",
       "      <td>148654.000000</td>\n",
       "      <td>0.0</td>\n",
       "    </tr>\n",
       "    <tr>\n",
       "      <th>mean</th>\n",
       "      <td>74327.500000</td>\n",
       "      <td>74768.321972</td>\n",
       "      <td>93692.554811</td>\n",
       "      <td>2012.522643</td>\n",
       "      <td>NaN</td>\n",
       "    </tr>\n",
       "    <tr>\n",
       "      <th>std</th>\n",
       "      <td>42912.857795</td>\n",
       "      <td>50517.005274</td>\n",
       "      <td>62793.533483</td>\n",
       "      <td>1.117538</td>\n",
       "      <td>NaN</td>\n",
       "    </tr>\n",
       "    <tr>\n",
       "      <th>min</th>\n",
       "      <td>1.000000</td>\n",
       "      <td>-618.130000</td>\n",
       "      <td>-618.130000</td>\n",
       "      <td>2011.000000</td>\n",
       "      <td>NaN</td>\n",
       "    </tr>\n",
       "    <tr>\n",
       "      <th>25%</th>\n",
       "      <td>37164.250000</td>\n",
       "      <td>36168.995000</td>\n",
       "      <td>44065.650000</td>\n",
       "      <td>2012.000000</td>\n",
       "      <td>NaN</td>\n",
       "    </tr>\n",
       "    <tr>\n",
       "      <th>50%</th>\n",
       "      <td>74327.500000</td>\n",
       "      <td>71426.610000</td>\n",
       "      <td>92404.090000</td>\n",
       "      <td>2013.000000</td>\n",
       "      <td>NaN</td>\n",
       "    </tr>\n",
       "    <tr>\n",
       "      <th>75%</th>\n",
       "      <td>111490.750000</td>\n",
       "      <td>105839.135000</td>\n",
       "      <td>132876.450000</td>\n",
       "      <td>2014.000000</td>\n",
       "      <td>NaN</td>\n",
       "    </tr>\n",
       "    <tr>\n",
       "      <th>max</th>\n",
       "      <td>148654.000000</td>\n",
       "      <td>567595.430000</td>\n",
       "      <td>567595.430000</td>\n",
       "      <td>2014.000000</td>\n",
       "      <td>NaN</td>\n",
       "    </tr>\n",
       "  </tbody>\n",
       "</table>\n",
       "</div>"
      ],
      "text/plain": [
       "                  Id       TotalPay        profits           Year  Notes\n",
       "count  148654.000000  148654.000000  148654.000000  148654.000000    0.0\n",
       "mean    74327.500000   74768.321972   93692.554811    2012.522643    NaN\n",
       "std     42912.857795   50517.005274   62793.533483       1.117538    NaN\n",
       "min         1.000000    -618.130000    -618.130000    2011.000000    NaN\n",
       "25%     37164.250000   36168.995000   44065.650000    2012.000000    NaN\n",
       "50%     74327.500000   71426.610000   92404.090000    2013.000000    NaN\n",
       "75%    111490.750000  105839.135000  132876.450000    2014.000000    NaN\n",
       "max    148654.000000  567595.430000  567595.430000    2014.000000    NaN"
      ]
     },
     "execution_count": 22,
     "metadata": {},
     "output_type": "execute_result"
    }
   ],
   "source": [
    "dt.describe()"
   ]
  },
  {
   "cell_type": "code",
   "execution_count": 23,
   "id": "78b70f59-3d3c-45b7-ab62-4e1ff9baa761",
   "metadata": {},
   "outputs": [],
   "source": [
    "dt.replace('?',np.nan,inplace=True)"
   ]
  },
  {
   "cell_type": "code",
   "execution_count": 28,
   "id": "6f1c616d-e11f-4fd0-9bf4-f4966a03999b",
   "metadata": {},
   "outputs": [
    {
     "data": {
      "text/plain": [
       "Id            int64\n",
       "Emp_n        object\n",
       "JobTitle     object\n",
       "BasePay     float64\n",
       "OT_Pay       object\n",
       "OtherPay     object\n",
       "Benefits     object\n",
       "TotalPay    float64\n",
       "profits     float64\n",
       "Year          int64\n",
       "Notes       float64\n",
       "Agency       object\n",
       "Status       object\n",
       "dtype: object"
      ]
     },
     "execution_count": 28,
     "metadata": {},
     "output_type": "execute_result"
    }
   ],
   "source": [
    "dt.dtypes"
   ]
  },
  {
   "cell_type": "code",
   "execution_count": 29,
   "id": "f94b430e-1734-411a-8f27-5c98e447a16b",
   "metadata": {},
   "outputs": [],
   "source": [
    "dt['Benefits'] = pd.to_numeric(dt['Benefits'], errors='coerce')  \n",
    "dt['OT_Pay'] = pd.to_numeric(dt['OT_Pay'], errors='coerce')  \n",
    "dt['OtherPay'] = pd.to_numeric(dt['OtherPay'], errors='coerce')  \n"
   ]
  },
  {
   "cell_type": "code",
   "execution_count": 30,
   "id": "67129501-9605-449b-9091-bae7547b4dff",
   "metadata": {},
   "outputs": [
    {
     "data": {
      "text/plain": [
       "Id            int64\n",
       "Emp_n        object\n",
       "JobTitle     object\n",
       "BasePay     float64\n",
       "OT_Pay      float64\n",
       "OtherPay    float64\n",
       "Benefits    float64\n",
       "TotalPay    float64\n",
       "profits     float64\n",
       "Year          int64\n",
       "Notes       float64\n",
       "Agency       object\n",
       "Status       object\n",
       "dtype: object"
      ]
     },
     "execution_count": 30,
     "metadata": {},
     "output_type": "execute_result"
    }
   ],
   "source": [
    "dt.dtypes"
   ]
  },
  {
   "cell_type": "code",
   "execution_count": 35,
   "id": "011fd21d-e612-4a61-8f71-7a2e78ef5446",
   "metadata": {},
   "outputs": [
    {
     "data": {
      "text/plain": [
       "Id               0\n",
       "Emp_n            0\n",
       "JobTitle         0\n",
       "BasePay        609\n",
       "OT_Pay           4\n",
       "OtherPay         4\n",
       "Benefits         0\n",
       "TotalPay         0\n",
       "profits          0\n",
       "Year             0\n",
       "Notes       148654\n",
       "Agency           0\n",
       "Status      110535\n",
       "dtype: int64"
      ]
     },
     "execution_count": 35,
     "metadata": {},
     "output_type": "execute_result"
    }
   ],
   "source": [
    "dt.isnull().sum()"
   ]
  },
  {
   "cell_type": "markdown",
   "id": "727e5003-91f8-42f0-bf7e-ae6d9ac7dc7b",
   "metadata": {},
   "source": [
    "CLEANING DATA"
   ]
  },
  {
   "cell_type": "code",
   "execution_count": 34,
   "id": "a58c82c4-6484-4e62-9c9c-6a61baabf655",
   "metadata": {},
   "outputs": [],
   "source": [
    "avg_Benefits=dt['Benefits'].mean()\n",
    "dt['Benefits'] = dt['Benefits'].fillna(avg_Benefits)"
   ]
  },
  {
   "cell_type": "code",
   "execution_count": 42,
   "id": "f91c16d8-1d51-4626-a8f1-7d49e5b66aa4",
   "metadata": {},
   "outputs": [
    {
     "data": {
      "text/plain": [
       "0              0.00\n",
       "1         245131.88\n",
       "2         106088.18\n",
       "3          56120.71\n",
       "4           9737.00\n",
       "            ...    \n",
       "148649         0.00\n",
       "148650         0.00\n",
       "148651         0.00\n",
       "148652         0.00\n",
       "148653         0.00\n",
       "Name: OT_Pay, Length: 148654, dtype: float64"
      ]
     },
     "execution_count": 42,
     "metadata": {},
     "output_type": "execute_result"
    }
   ],
   "source": [
    "dt['OT_Pay'].fillna(dt['OT_Pay'].mode())\n",
    "\n"
   ]
  },
  {
   "cell_type": "code",
   "execution_count": 45,
   "id": "e06c7611-ee9c-46ed-a4ba-7fec72787de3",
   "metadata": {},
   "outputs": [
    {
     "name": "stderr",
     "output_type": "stream",
     "text": [
      "C:\\Users\\oabda\\AppData\\Local\\Temp\\ipykernel_19920\\2654374069.py:1: FutureWarning: A value is trying to be set on a copy of a DataFrame or Series through chained assignment using an inplace method.\n",
      "The behavior will change in pandas 3.0. This inplace method will never work because the intermediate object on which we are setting values always behaves as a copy.\n",
      "\n",
      "For example, when doing 'df[col].method(value, inplace=True)', try using 'df.method({col: value}, inplace=True)' or df[col] = df[col].method(value) instead, to perform the operation inplace on the original object.\n",
      "\n",
      "\n",
      "  dt['BasePay'].fillna(dt['BasePay'].median(),inplace=True)\n"
     ]
    }
   ],
   "source": [
    "dt['BasePay'].fillna(dt['BasePay'].median(),inplace=True)\n"
   ]
  },
  {
   "cell_type": "code",
   "execution_count": 46,
   "id": "13b7461d-5d75-425c-a813-0ebaf1eee0fe",
   "metadata": {},
   "outputs": [
    {
     "data": {
      "text/plain": [
       "Id               0\n",
       "Emp_n            0\n",
       "JobTitle         0\n",
       "BasePay          0\n",
       "OT_Pay           0\n",
       "OtherPay         4\n",
       "Benefits         0\n",
       "TotalPay         0\n",
       "profits          0\n",
       "Year             0\n",
       "Notes       148654\n",
       "Agency           0\n",
       "Status      110535\n",
       "dtype: int64"
      ]
     },
     "execution_count": 46,
     "metadata": {},
     "output_type": "execute_result"
    }
   ],
   "source": [
    "dt.isnull().sum()\n"
   ]
  },
  {
   "cell_type": "code",
   "execution_count": 49,
   "id": "4a300e77-fe7b-40ff-ab17-6a1a8bfec923",
   "metadata": {},
   "outputs": [
    {
     "name": "stdout",
     "output_type": "stream",
     "text": [
      "            Id         Emp_n      JobTitle   BasePay  OT_Pay  OtherPay  \\\n",
      "148646  148647  Not provided  Not provided  65007.45     0.0       NaN   \n",
      "148650  148651  Not provided  Not provided  65007.45     0.0       NaN   \n",
      "148651  148652  Not provided  Not provided  65007.45     0.0       NaN   \n",
      "148652  148653  Not provided  Not provided  65007.45     0.0       NaN   \n",
      "\n",
      "            Benefits  TotalPay  profits  Year  Notes         Agency Status  \n",
      "148646  25007.893151       0.0      0.0  2014    NaN  San Francisco    NaN  \n",
      "148650  25007.893151       0.0      0.0  2014    NaN  San Francisco    NaN  \n",
      "148651  25007.893151       0.0      0.0  2014    NaN  San Francisco    NaN  \n",
      "148652  25007.893151       0.0      0.0  2014    NaN  San Francisco    NaN  \n"
     ]
    }
   ],
   "source": [
    "na_rows = dt[dt['OtherPay'].isna()]\n",
    "print(na_rows)"
   ]
  },
  {
   "cell_type": "code",
   "execution_count": 50,
   "id": "387f1d1e-36e4-4940-95c2-0bd6ea26f1c1",
   "metadata": {},
   "outputs": [],
   "source": [
    "dt.replace('Not provided',np.nan,inplace=True)"
   ]
  },
  {
   "cell_type": "code",
   "execution_count": 51,
   "id": "62a40663-4374-4ac3-bec9-79daf7f76862",
   "metadata": {},
   "outputs": [
    {
     "data": {
      "text/plain": [
       "Id               0\n",
       "Emp_n            4\n",
       "JobTitle         4\n",
       "BasePay          0\n",
       "OT_Pay           0\n",
       "OtherPay         4\n",
       "Benefits         0\n",
       "TotalPay         0\n",
       "profits          0\n",
       "Year             0\n",
       "Notes       148654\n",
       "Agency           0\n",
       "Status      110535\n",
       "dtype: int64"
      ]
     },
     "execution_count": 51,
     "metadata": {},
     "output_type": "execute_result"
    }
   ],
   "source": [
    "dt.isnull().sum()\n"
   ]
  },
  {
   "cell_type": "code",
   "execution_count": 52,
   "id": "b87ca00a-6544-4345-9523-6e7f70c34517",
   "metadata": {},
   "outputs": [
    {
     "name": "stderr",
     "output_type": "stream",
     "text": [
      "C:\\Users\\oabda\\AppData\\Local\\Temp\\ipykernel_19920\\3031797548.py:1: FutureWarning: A value is trying to be set on a copy of a DataFrame or Series through chained assignment using an inplace method.\n",
      "The behavior will change in pandas 3.0. This inplace method will never work because the intermediate object on which we are setting values always behaves as a copy.\n",
      "\n",
      "For example, when doing 'df[col].method(value, inplace=True)', try using 'df.method({col: value}, inplace=True)' or df[col] = df[col].method(value) instead, to perform the operation inplace on the original object.\n",
      "\n",
      "\n",
      "  dt['OtherPay'].fillna(dt['OtherPay'].mean(),inplace=True)\n"
     ]
    }
   ],
   "source": [
    "dt['OtherPay'].fillna(dt['OtherPay'].mean(),inplace=True)"
   ]
  },
  {
   "cell_type": "code",
   "execution_count": 53,
   "id": "e6ab8e02-9661-48ed-bdc5-5f60fcffcbd1",
   "metadata": {},
   "outputs": [
    {
     "data": {
      "text/plain": [
       "Id               0\n",
       "Emp_n            4\n",
       "JobTitle         4\n",
       "BasePay          0\n",
       "OT_Pay           0\n",
       "OtherPay         0\n",
       "Benefits         0\n",
       "TotalPay         0\n",
       "profits          0\n",
       "Year             0\n",
       "Notes       148654\n",
       "Agency           0\n",
       "Status      110535\n",
       "dtype: int64"
      ]
     },
     "execution_count": 53,
     "metadata": {},
     "output_type": "execute_result"
    }
   ],
   "source": [
    "dt.isnull().sum()\n"
   ]
  },
  {
   "cell_type": "code",
   "execution_count": 55,
   "id": "c827b19c-addc-4c8f-8897-4a1b31cfe878",
   "metadata": {},
   "outputs": [
    {
     "data": {
      "text/plain": [
       "0"
      ]
     },
     "execution_count": 55,
     "metadata": {},
     "output_type": "execute_result"
    }
   ],
   "source": [
    "dt.duplicated().sum()\n"
   ]
  },
  {
   "cell_type": "code",
   "execution_count": 59,
   "id": "6fb803be-f701-4089-940a-b28362e41946",
   "metadata": {},
   "outputs": [],
   "source": [
    "dt.drop('Notes',axis=1,inplace=True)"
   ]
  },
  {
   "cell_type": "code",
   "execution_count": 60,
   "id": "f925e44a-e108-4755-a775-4f470402dac6",
   "metadata": {},
   "outputs": [
    {
     "data": {
      "text/plain": [
       "Id               0\n",
       "Emp_n            4\n",
       "JobTitle         4\n",
       "BasePay          0\n",
       "OT_Pay           0\n",
       "OtherPay         0\n",
       "Benefits         0\n",
       "TotalPay         0\n",
       "profits          0\n",
       "Year             0\n",
       "Agency           0\n",
       "Status      110535\n",
       "dtype: int64"
      ]
     },
     "execution_count": 60,
     "metadata": {},
     "output_type": "execute_result"
    }
   ],
   "source": [
    "dt.isnull().sum()\n"
   ]
  },
  {
   "cell_type": "code",
   "execution_count": 65,
   "id": "b1cccbb7-8d4c-409a-a8e1-7606d17f5e06",
   "metadata": {},
   "outputs": [
    {
     "data": {
      "text/plain": [
       "Status\n",
       "FT    22334\n",
       "PT    15785\n",
       "Name: count, dtype: int64"
      ]
     },
     "execution_count": 65,
     "metadata": {},
     "output_type": "execute_result"
    }
   ],
   "source": [
    "#dt['Status'].unique()\n",
    "dt['Status'].value_counts()"
   ]
  },
  {
   "cell_type": "code",
   "execution_count": 66,
   "id": "1327091a-a637-4cc5-91e3-19503b0a3cc0",
   "metadata": {},
   "outputs": [],
   "source": [
    "dt['Status'].fillna('FT',inplace=True)"
   ]
  },
  {
   "cell_type": "code",
   "execution_count": 68,
   "id": "8d49d039-e542-414b-b2e0-dbadcc2c1a2b",
   "metadata": {},
   "outputs": [],
   "source": [
    "dt.dropna(subset=['JobTitle','Emp_n'],inplace=True)"
   ]
  },
  {
   "cell_type": "code",
   "execution_count": 69,
   "id": "e00a1dc4-4817-42cf-af11-4519a2c8c7df",
   "metadata": {},
   "outputs": [
    {
     "data": {
      "text/plain": [
       "Id          0\n",
       "Emp_n       0\n",
       "JobTitle    0\n",
       "BasePay     0\n",
       "OT_Pay      0\n",
       "OtherPay    0\n",
       "Benefits    0\n",
       "TotalPay    0\n",
       "profits     0\n",
       "Year        0\n",
       "Agency      0\n",
       "Status      0\n",
       "dtype: int64"
      ]
     },
     "execution_count": 69,
     "metadata": {},
     "output_type": "execute_result"
    }
   ],
   "source": [
    "dt.isnull().sum()\n"
   ]
  },
  {
   "cell_type": "code",
   "execution_count": 70,
   "id": "db44e59e-0770-4987-8eb3-d2c417d15251",
   "metadata": {},
   "outputs": [
    {
     "data": {
      "text/html": [
       "<div>\n",
       "<style scoped>\n",
       "    .dataframe tbody tr th:only-of-type {\n",
       "        vertical-align: middle;\n",
       "    }\n",
       "\n",
       "    .dataframe tbody tr th {\n",
       "        vertical-align: top;\n",
       "    }\n",
       "\n",
       "    .dataframe thead th {\n",
       "        text-align: right;\n",
       "    }\n",
       "</style>\n",
       "<table border=\"1\" class=\"dataframe\">\n",
       "  <thead>\n",
       "    <tr style=\"text-align: right;\">\n",
       "      <th></th>\n",
       "      <th>Id</th>\n",
       "      <th>Emp_n</th>\n",
       "      <th>JobTitle</th>\n",
       "      <th>BasePay</th>\n",
       "      <th>OT_Pay</th>\n",
       "      <th>OtherPay</th>\n",
       "      <th>Benefits</th>\n",
       "      <th>TotalPay</th>\n",
       "      <th>profits</th>\n",
       "      <th>Year</th>\n",
       "      <th>Agency</th>\n",
       "      <th>Status</th>\n",
       "    </tr>\n",
       "  </thead>\n",
       "  <tbody>\n",
       "    <tr>\n",
       "      <th>103406</th>\n",
       "      <td>103407</td>\n",
       "      <td>Hadas  Desta</td>\n",
       "      <td>Personnel Analyst</td>\n",
       "      <td>13605.02</td>\n",
       "      <td>0.00</td>\n",
       "      <td>5997.46</td>\n",
       "      <td>4688.780000</td>\n",
       "      <td>19602.48</td>\n",
       "      <td>24291.26</td>\n",
       "      <td>2013</td>\n",
       "      <td>San Francisco</td>\n",
       "      <td>FT</td>\n",
       "    </tr>\n",
       "    <tr>\n",
       "      <th>48826</th>\n",
       "      <td>48827</td>\n",
       "      <td>Ruo Peng Yuan</td>\n",
       "      <td>Sr. Community Devl Spc 1</td>\n",
       "      <td>87450.00</td>\n",
       "      <td>0.00</td>\n",
       "      <td>0.00</td>\n",
       "      <td>36481.180000</td>\n",
       "      <td>87450.00</td>\n",
       "      <td>123931.18</td>\n",
       "      <td>2012</td>\n",
       "      <td>San Francisco</td>\n",
       "      <td>FT</td>\n",
       "    </tr>\n",
       "    <tr>\n",
       "      <th>32165</th>\n",
       "      <td>32166</td>\n",
       "      <td>GERALDINE WONG</td>\n",
       "      <td>PHARMACY TECHNICIAN</td>\n",
       "      <td>8301.81</td>\n",
       "      <td>0.00</td>\n",
       "      <td>11.60</td>\n",
       "      <td>25007.893151</td>\n",
       "      <td>8313.41</td>\n",
       "      <td>8313.41</td>\n",
       "      <td>2011</td>\n",
       "      <td>San Francisco</td>\n",
       "      <td>FT</td>\n",
       "    </tr>\n",
       "    <tr>\n",
       "      <th>41629</th>\n",
       "      <td>41630</td>\n",
       "      <td>Josef Bruckback</td>\n",
       "      <td>Manager II</td>\n",
       "      <td>116435.36</td>\n",
       "      <td>0.00</td>\n",
       "      <td>4486.00</td>\n",
       "      <td>46270.520000</td>\n",
       "      <td>120921.36</td>\n",
       "      <td>167191.88</td>\n",
       "      <td>2012</td>\n",
       "      <td>San Francisco</td>\n",
       "      <td>FT</td>\n",
       "    </tr>\n",
       "    <tr>\n",
       "      <th>88335</th>\n",
       "      <td>88336</td>\n",
       "      <td>Mario R Gutierrez</td>\n",
       "      <td>Transit Operator</td>\n",
       "      <td>66281.69</td>\n",
       "      <td>15801.59</td>\n",
       "      <td>474.02</td>\n",
       "      <td>30926.990000</td>\n",
       "      <td>82557.30</td>\n",
       "      <td>113484.29</td>\n",
       "      <td>2013</td>\n",
       "      <td>San Francisco</td>\n",
       "      <td>FT</td>\n",
       "    </tr>\n",
       "    <tr>\n",
       "      <th>80809</th>\n",
       "      <td>80810</td>\n",
       "      <td>Kanchana  Gaddipati</td>\n",
       "      <td>IS Business Analyst-Principal</td>\n",
       "      <td>126893.50</td>\n",
       "      <td>0.00</td>\n",
       "      <td>0.00</td>\n",
       "      <td>26235.850000</td>\n",
       "      <td>126893.50</td>\n",
       "      <td>153129.35</td>\n",
       "      <td>2013</td>\n",
       "      <td>San Francisco</td>\n",
       "      <td>FT</td>\n",
       "    </tr>\n",
       "    <tr>\n",
       "      <th>43427</th>\n",
       "      <td>43428</td>\n",
       "      <td>Robert Sari Jr</td>\n",
       "      <td>Utility Plumber</td>\n",
       "      <td>91733.28</td>\n",
       "      <td>23069.37</td>\n",
       "      <td>1277.24</td>\n",
       "      <td>39189.980000</td>\n",
       "      <td>116079.89</td>\n",
       "      <td>155269.87</td>\n",
       "      <td>2012</td>\n",
       "      <td>San Francisco</td>\n",
       "      <td>FT</td>\n",
       "    </tr>\n",
       "    <tr>\n",
       "      <th>5169</th>\n",
       "      <td>5170</td>\n",
       "      <td>SUSAN SCHWARTZ</td>\n",
       "      <td>MANAGER III</td>\n",
       "      <td>123290.70</td>\n",
       "      <td>0.00</td>\n",
       "      <td>0.00</td>\n",
       "      <td>25007.893151</td>\n",
       "      <td>123290.70</td>\n",
       "      <td>123290.70</td>\n",
       "      <td>2011</td>\n",
       "      <td>San Francisco</td>\n",
       "      <td>FT</td>\n",
       "    </tr>\n",
       "    <tr>\n",
       "      <th>4367</th>\n",
       "      <td>4368</td>\n",
       "      <td>MEGAN ELLIOTT</td>\n",
       "      <td>MANAGER IV</td>\n",
       "      <td>128357.49</td>\n",
       "      <td>0.00</td>\n",
       "      <td>245.98</td>\n",
       "      <td>25007.893151</td>\n",
       "      <td>128603.47</td>\n",
       "      <td>128603.47</td>\n",
       "      <td>2011</td>\n",
       "      <td>San Francisco</td>\n",
       "      <td>FT</td>\n",
       "    </tr>\n",
       "    <tr>\n",
       "      <th>137921</th>\n",
       "      <td>137922</td>\n",
       "      <td>Kate A. Parun</td>\n",
       "      <td>Community Police Services Aide</td>\n",
       "      <td>35563.00</td>\n",
       "      <td>1836.47</td>\n",
       "      <td>2061.64</td>\n",
       "      <td>18715.620000</td>\n",
       "      <td>39461.11</td>\n",
       "      <td>58176.73</td>\n",
       "      <td>2014</td>\n",
       "      <td>San Francisco</td>\n",
       "      <td>PT</td>\n",
       "    </tr>\n",
       "    <tr>\n",
       "      <th>19309</th>\n",
       "      <td>19310</td>\n",
       "      <td>ANITA YAO</td>\n",
       "      <td>WHARFINGER I</td>\n",
       "      <td>64219.48</td>\n",
       "      <td>0.00</td>\n",
       "      <td>1040.00</td>\n",
       "      <td>25007.893151</td>\n",
       "      <td>65259.48</td>\n",
       "      <td>65259.48</td>\n",
       "      <td>2011</td>\n",
       "      <td>San Francisco</td>\n",
       "      <td>FT</td>\n",
       "    </tr>\n",
       "    <tr>\n",
       "      <th>135984</th>\n",
       "      <td>135985</td>\n",
       "      <td>Brendan A Linnane</td>\n",
       "      <td>Gardener</td>\n",
       "      <td>60346.01</td>\n",
       "      <td>379.05</td>\n",
       "      <td>487.60</td>\n",
       "      <td>14976.450000</td>\n",
       "      <td>61212.66</td>\n",
       "      <td>76189.11</td>\n",
       "      <td>2014</td>\n",
       "      <td>San Francisco</td>\n",
       "      <td>FT</td>\n",
       "    </tr>\n",
       "    <tr>\n",
       "      <th>19479</th>\n",
       "      <td>19480</td>\n",
       "      <td>IRVING MC KNIGHT</td>\n",
       "      <td>COUNSELOR, JUVENILE HALL</td>\n",
       "      <td>58433.07</td>\n",
       "      <td>4542.69</td>\n",
       "      <td>1791.48</td>\n",
       "      <td>25007.893151</td>\n",
       "      <td>64767.24</td>\n",
       "      <td>64767.24</td>\n",
       "      <td>2011</td>\n",
       "      <td>San Francisco</td>\n",
       "      <td>FT</td>\n",
       "    </tr>\n",
       "    <tr>\n",
       "      <th>11156</th>\n",
       "      <td>11157</td>\n",
       "      <td>DAVID SUTHERLAND</td>\n",
       "      <td>SENIOR PHYSICIAN SPECIALIST</td>\n",
       "      <td>87673.27</td>\n",
       "      <td>0.00</td>\n",
       "      <td>4384.18</td>\n",
       "      <td>25007.893151</td>\n",
       "      <td>92057.45</td>\n",
       "      <td>92057.45</td>\n",
       "      <td>2011</td>\n",
       "      <td>San Francisco</td>\n",
       "      <td>FT</td>\n",
       "    </tr>\n",
       "    <tr>\n",
       "      <th>99239</th>\n",
       "      <td>99240</td>\n",
       "      <td>Vivian D Diokno</td>\n",
       "      <td>Eligibility Worker Supervisor</td>\n",
       "      <td>51628.51</td>\n",
       "      <td>0.00</td>\n",
       "      <td>382.70</td>\n",
       "      <td>17424.460000</td>\n",
       "      <td>52011.21</td>\n",
       "      <td>69435.67</td>\n",
       "      <td>2013</td>\n",
       "      <td>San Francisco</td>\n",
       "      <td>FT</td>\n",
       "    </tr>\n",
       "    <tr>\n",
       "      <th>55427</th>\n",
       "      <td>55428</td>\n",
       "      <td>Stephanie Wong</td>\n",
       "      <td>Payroll Clerk</td>\n",
       "      <td>63073.51</td>\n",
       "      <td>3032.20</td>\n",
       "      <td>629.00</td>\n",
       "      <td>31683.100000</td>\n",
       "      <td>66734.71</td>\n",
       "      <td>98417.81</td>\n",
       "      <td>2012</td>\n",
       "      <td>San Francisco</td>\n",
       "      <td>FT</td>\n",
       "    </tr>\n",
       "    <tr>\n",
       "      <th>93450</th>\n",
       "      <td>93451</td>\n",
       "      <td>Erickson Suacillo Dumlao</td>\n",
       "      <td>Electrical Transit System Mech</td>\n",
       "      <td>67135.20</td>\n",
       "      <td>1192.54</td>\n",
       "      <td>924.00</td>\n",
       "      <td>25531.410000</td>\n",
       "      <td>69251.74</td>\n",
       "      <td>94783.15</td>\n",
       "      <td>2013</td>\n",
       "      <td>San Francisco</td>\n",
       "      <td>FT</td>\n",
       "    </tr>\n",
       "    <tr>\n",
       "      <th>73242</th>\n",
       "      <td>73243</td>\n",
       "      <td>Stuart E Beach</td>\n",
       "      <td>Captain, Emergency Med Svcs</td>\n",
       "      <td>155174.54</td>\n",
       "      <td>45712.42</td>\n",
       "      <td>19396.80</td>\n",
       "      <td>49531.060000</td>\n",
       "      <td>220283.76</td>\n",
       "      <td>269814.82</td>\n",
       "      <td>2013</td>\n",
       "      <td>San Francisco</td>\n",
       "      <td>FT</td>\n",
       "    </tr>\n",
       "    <tr>\n",
       "      <th>81697</th>\n",
       "      <td>81698</td>\n",
       "      <td>Edward V DeGuzman</td>\n",
       "      <td>Registered Nurse</td>\n",
       "      <td>108286.50</td>\n",
       "      <td>1369.46</td>\n",
       "      <td>11496.69</td>\n",
       "      <td>26123.020000</td>\n",
       "      <td>121152.65</td>\n",
       "      <td>147275.67</td>\n",
       "      <td>2013</td>\n",
       "      <td>San Francisco</td>\n",
       "      <td>FT</td>\n",
       "    </tr>\n",
       "    <tr>\n",
       "      <th>45367</th>\n",
       "      <td>45368</td>\n",
       "      <td>Felix Yan</td>\n",
       "      <td>IS Business Analyst-Senior</td>\n",
       "      <td>102466.00</td>\n",
       "      <td>0.00</td>\n",
       "      <td>43.92</td>\n",
       "      <td>39826.740000</td>\n",
       "      <td>102509.92</td>\n",
       "      <td>142336.66</td>\n",
       "      <td>2012</td>\n",
       "      <td>San Francisco</td>\n",
       "      <td>FT</td>\n",
       "    </tr>\n",
       "  </tbody>\n",
       "</table>\n",
       "</div>"
      ],
      "text/plain": [
       "            Id                     Emp_n                        JobTitle  \\\n",
       "103406  103407              Hadas  Desta               Personnel Analyst   \n",
       "48826    48827             Ruo Peng Yuan        Sr. Community Devl Spc 1   \n",
       "32165    32166            GERALDINE WONG             PHARMACY TECHNICIAN   \n",
       "41629    41630           Josef Bruckback                      Manager II   \n",
       "88335    88336         Mario R Gutierrez                Transit Operator   \n",
       "80809    80810       Kanchana  Gaddipati   IS Business Analyst-Principal   \n",
       "43427    43428            Robert Sari Jr                 Utility Plumber   \n",
       "5169      5170            SUSAN SCHWARTZ                     MANAGER III   \n",
       "4367      4368             MEGAN ELLIOTT                      MANAGER IV   \n",
       "137921  137922             Kate A. Parun  Community Police Services Aide   \n",
       "19309    19310                 ANITA YAO                    WHARFINGER I   \n",
       "135984  135985         Brendan A Linnane                        Gardener   \n",
       "19479    19480          IRVING MC KNIGHT        COUNSELOR, JUVENILE HALL   \n",
       "11156    11157          DAVID SUTHERLAND     SENIOR PHYSICIAN SPECIALIST   \n",
       "99239    99240           Vivian D Diokno   Eligibility Worker Supervisor   \n",
       "55427    55428            Stephanie Wong                   Payroll Clerk   \n",
       "93450    93451  Erickson Suacillo Dumlao  Electrical Transit System Mech   \n",
       "73242    73243            Stuart E Beach     Captain, Emergency Med Svcs   \n",
       "81697    81698         Edward V DeGuzman                Registered Nurse   \n",
       "45367    45368                 Felix Yan      IS Business Analyst-Senior   \n",
       "\n",
       "          BasePay    OT_Pay  OtherPay      Benefits   TotalPay    profits  \\\n",
       "103406   13605.02      0.00   5997.46   4688.780000   19602.48   24291.26   \n",
       "48826    87450.00      0.00      0.00  36481.180000   87450.00  123931.18   \n",
       "32165     8301.81      0.00     11.60  25007.893151    8313.41    8313.41   \n",
       "41629   116435.36      0.00   4486.00  46270.520000  120921.36  167191.88   \n",
       "88335    66281.69  15801.59    474.02  30926.990000   82557.30  113484.29   \n",
       "80809   126893.50      0.00      0.00  26235.850000  126893.50  153129.35   \n",
       "43427    91733.28  23069.37   1277.24  39189.980000  116079.89  155269.87   \n",
       "5169    123290.70      0.00      0.00  25007.893151  123290.70  123290.70   \n",
       "4367    128357.49      0.00    245.98  25007.893151  128603.47  128603.47   \n",
       "137921   35563.00   1836.47   2061.64  18715.620000   39461.11   58176.73   \n",
       "19309    64219.48      0.00   1040.00  25007.893151   65259.48   65259.48   \n",
       "135984   60346.01    379.05    487.60  14976.450000   61212.66   76189.11   \n",
       "19479    58433.07   4542.69   1791.48  25007.893151   64767.24   64767.24   \n",
       "11156    87673.27      0.00   4384.18  25007.893151   92057.45   92057.45   \n",
       "99239    51628.51      0.00    382.70  17424.460000   52011.21   69435.67   \n",
       "55427    63073.51   3032.20    629.00  31683.100000   66734.71   98417.81   \n",
       "93450    67135.20   1192.54    924.00  25531.410000   69251.74   94783.15   \n",
       "73242   155174.54  45712.42  19396.80  49531.060000  220283.76  269814.82   \n",
       "81697   108286.50   1369.46  11496.69  26123.020000  121152.65  147275.67   \n",
       "45367   102466.00      0.00     43.92  39826.740000  102509.92  142336.66   \n",
       "\n",
       "        Year         Agency Status  \n",
       "103406  2013  San Francisco     FT  \n",
       "48826   2012  San Francisco     FT  \n",
       "32165   2011  San Francisco     FT  \n",
       "41629   2012  San Francisco     FT  \n",
       "88335   2013  San Francisco     FT  \n",
       "80809   2013  San Francisco     FT  \n",
       "43427   2012  San Francisco     FT  \n",
       "5169    2011  San Francisco     FT  \n",
       "4367    2011  San Francisco     FT  \n",
       "137921  2014  San Francisco     PT  \n",
       "19309   2011  San Francisco     FT  \n",
       "135984  2014  San Francisco     FT  \n",
       "19479   2011  San Francisco     FT  \n",
       "11156   2011  San Francisco     FT  \n",
       "99239   2013  San Francisco     FT  \n",
       "55427   2012  San Francisco     FT  \n",
       "93450   2013  San Francisco     FT  \n",
       "73242   2013  San Francisco     FT  \n",
       "81697   2013  San Francisco     FT  \n",
       "45367   2012  San Francisco     FT  "
      ]
     },
     "execution_count": 70,
     "metadata": {},
     "output_type": "execute_result"
    }
   ],
   "source": [
    "dt.sample(20)"
   ]
  },
  {
   "cell_type": "markdown",
   "id": "f40abdb7-f984-4095-9e77-3d1111460fda",
   "metadata": {},
   "source": [
    "NORMALIZATION"
   ]
  },
  {
   "cell_type": "code",
   "execution_count": 71,
   "id": "b6ecf08e-b64a-40f8-b438-ec4a7077f0ed",
   "metadata": {},
   "outputs": [],
   "source": [
    "dt['profits'] = dt['profits']/dt['profits'].max()"
   ]
  },
  {
   "cell_type": "code",
   "execution_count": 72,
   "id": "75ea998d-794b-4576-aaab-cb3457b03eb6",
   "metadata": {},
   "outputs": [],
   "source": [
    "dt['OtherPay']=(dt['OtherPay']-dt['OtherPay'].min())/(dt['OtherPay'].max()-dt['OtherPay'].min())"
   ]
  },
  {
   "cell_type": "code",
   "execution_count": 73,
   "id": "980c242d-1340-4207-9555-fb3d4977a9c4",
   "metadata": {},
   "outputs": [],
   "source": [
    "dt['TotalPay']=(dt['TotalPay']- dt['TotalPay'].mean())/dt['TotalPay'].std()"
   ]
  },
  {
   "cell_type": "code",
   "execution_count": 74,
   "id": "29050cd9-de05-4cfd-ad24-c25739545d23",
   "metadata": {},
   "outputs": [
    {
     "data": {
      "text/html": [
       "<div>\n",
       "<style scoped>\n",
       "    .dataframe tbody tr th:only-of-type {\n",
       "        vertical-align: middle;\n",
       "    }\n",
       "\n",
       "    .dataframe tbody tr th {\n",
       "        vertical-align: top;\n",
       "    }\n",
       "\n",
       "    .dataframe thead th {\n",
       "        text-align: right;\n",
       "    }\n",
       "</style>\n",
       "<table border=\"1\" class=\"dataframe\">\n",
       "  <thead>\n",
       "    <tr style=\"text-align: right;\">\n",
       "      <th></th>\n",
       "      <th>Id</th>\n",
       "      <th>Emp_n</th>\n",
       "      <th>JobTitle</th>\n",
       "      <th>BasePay</th>\n",
       "      <th>OT_Pay</th>\n",
       "      <th>OtherPay</th>\n",
       "      <th>Benefits</th>\n",
       "      <th>TotalPay</th>\n",
       "      <th>profits</th>\n",
       "      <th>Year</th>\n",
       "      <th>Agency</th>\n",
       "      <th>Status</th>\n",
       "    </tr>\n",
       "  </thead>\n",
       "  <tbody>\n",
       "    <tr>\n",
       "      <th>0</th>\n",
       "      <td>1</td>\n",
       "      <td>NATHANIEL FORD</td>\n",
       "      <td>GENERAL MANAGER-METROPOLITAN TRANSIT AUTHORITY</td>\n",
       "      <td>167411.18</td>\n",
       "      <td>0.00</td>\n",
       "      <td>1.000000</td>\n",
       "      <td>25007.893151</td>\n",
       "      <td>9.755784</td>\n",
       "      <td>1.000000</td>\n",
       "      <td>2011</td>\n",
       "      <td>San Francisco</td>\n",
       "      <td>FT</td>\n",
       "    </tr>\n",
       "    <tr>\n",
       "      <th>1</th>\n",
       "      <td>2</td>\n",
       "      <td>GARY JIMENEZ</td>\n",
       "      <td>CAPTAIN III (POLICE DEPARTMENT)</td>\n",
       "      <td>155966.02</td>\n",
       "      <td>245131.88</td>\n",
       "      <td>0.355734</td>\n",
       "      <td>25007.893151</td>\n",
       "      <td>9.187924</td>\n",
       "      <td>0.949460</td>\n",
       "      <td>2011</td>\n",
       "      <td>San Francisco</td>\n",
       "      <td>FT</td>\n",
       "    </tr>\n",
       "    <tr>\n",
       "      <th>2</th>\n",
       "      <td>3</td>\n",
       "      <td>ALBERT PARDINI</td>\n",
       "      <td>CAPTAIN III (POLICE DEPARTMENT)</td>\n",
       "      <td>212739.13</td>\n",
       "      <td>106088.18</td>\n",
       "      <td>0.057733</td>\n",
       "      <td>25007.893151</td>\n",
       "      <td>5.156952</td>\n",
       "      <td>0.590702</td>\n",
       "      <td>2011</td>\n",
       "      <td>San Francisco</td>\n",
       "      <td>FT</td>\n",
       "    </tr>\n",
       "    <tr>\n",
       "      <th>3</th>\n",
       "      <td>4</td>\n",
       "      <td>CHRISTOPHER CHONG</td>\n",
       "      <td>WIRE ROPE CABLE MAINTENANCE MECHANIC</td>\n",
       "      <td>77916.00</td>\n",
       "      <td>56120.71</td>\n",
       "      <td>0.504283</td>\n",
       "      <td>25007.893151</td>\n",
       "      <td>5.098826</td>\n",
       "      <td>0.585529</td>\n",
       "      <td>2011</td>\n",
       "      <td>San Francisco</td>\n",
       "      <td>FT</td>\n",
       "    </tr>\n",
       "    <tr>\n",
       "      <th>4</th>\n",
       "      <td>5</td>\n",
       "      <td>PATRICK GARDNER</td>\n",
       "      <td>DEPUTY CHIEF OF DEPARTMENT,(FIRE DEPARTMENT)</td>\n",
       "      <td>134401.60</td>\n",
       "      <td>9737.00</td>\n",
       "      <td>0.464816</td>\n",
       "      <td>25007.893151</td>\n",
       "      <td>4.980637</td>\n",
       "      <td>0.575010</td>\n",
       "      <td>2011</td>\n",
       "      <td>San Francisco</td>\n",
       "      <td>FT</td>\n",
       "    </tr>\n",
       "  </tbody>\n",
       "</table>\n",
       "</div>"
      ],
      "text/plain": [
       "   Id              Emp_n                                        JobTitle  \\\n",
       "0   1     NATHANIEL FORD  GENERAL MANAGER-METROPOLITAN TRANSIT AUTHORITY   \n",
       "1   2       GARY JIMENEZ                 CAPTAIN III (POLICE DEPARTMENT)   \n",
       "2   3     ALBERT PARDINI                 CAPTAIN III (POLICE DEPARTMENT)   \n",
       "3   4  CHRISTOPHER CHONG            WIRE ROPE CABLE MAINTENANCE MECHANIC   \n",
       "4   5    PATRICK GARDNER    DEPUTY CHIEF OF DEPARTMENT,(FIRE DEPARTMENT)   \n",
       "\n",
       "     BasePay     OT_Pay  OtherPay      Benefits  TotalPay   profits  Year  \\\n",
       "0  167411.18       0.00  1.000000  25007.893151  9.755784  1.000000  2011   \n",
       "1  155966.02  245131.88  0.355734  25007.893151  9.187924  0.949460  2011   \n",
       "2  212739.13  106088.18  0.057733  25007.893151  5.156952  0.590702  2011   \n",
       "3   77916.00   56120.71  0.504283  25007.893151  5.098826  0.585529  2011   \n",
       "4  134401.60    9737.00  0.464816  25007.893151  4.980637  0.575010  2011   \n",
       "\n",
       "          Agency Status  \n",
       "0  San Francisco     FT  \n",
       "1  San Francisco     FT  \n",
       "2  San Francisco     FT  \n",
       "3  San Francisco     FT  \n",
       "4  San Francisco     FT  "
      ]
     },
     "execution_count": 74,
     "metadata": {},
     "output_type": "execute_result"
    }
   ],
   "source": [
    "dt.head(5)"
   ]
  },
  {
   "cell_type": "code",
   "execution_count": 75,
   "id": "99d84d48-f0f7-4e56-ac66-76dbda9e212f",
   "metadata": {},
   "outputs": [],
   "source": [
    "dt['BasePay'] = dt['BasePay']/dt['BasePay'].max()\n",
    "dt['OT_Pay']=(dt['OT_Pay']- dt['OT_Pay'].mean())/dt['OT_Pay'].std()"
   ]
  },
  {
   "cell_type": "code",
   "execution_count": 77,
   "id": "9132f700-0841-4775-bb5b-7c919a7790bf",
   "metadata": {},
   "outputs": [
    {
     "data": {
      "text/plain": [
       "<Axes: ylabel='TotalPay'>"
      ]
     },
     "execution_count": 77,
     "metadata": {},
     "output_type": "execute_result"
    },
    {
     "data": {
      "image/png": "[encoded data removed]",
      "text/plain": [
       "<Figure size 640x480 with 1 Axes>"
      ]
     },
     "metadata": {},
     "output_type": "display_data"
    }
   ],
   "source": [
    "sns.boxplot(dt['TotalPay'])"
   ]
  },
  {
   "cell_type": "code",
   "execution_count": 79,
   "id": "0942d491-0e5e-46f7-b878-4eb928b1c65c",
   "metadata": {},
   "outputs": [
    {
     "name": "stdout",
     "output_type": "stream",
     "text": [
      "-0.7641188757437168\n",
      "0.6151022553975888\n",
      "1.3792211311413056\n"
     ]
    }
   ],
   "source": [
    "q1 = dt['TotalPay'].quantile(0.25)\n",
    "q2 = dt['TotalPay'].quantile(0.75)\n",
    "iqr = q2 - q1\n",
    "print(q1)\n",
    "print(q2)\n",
    "print(iqr)"
   ]
  },
  {
   "cell_type": "code",
   "execution_count": 80,
   "id": "de0ebc3a-5d19-43d9-ab7e-30deb8ab2c75",
   "metadata": {},
   "outputs": [
    {
     "name": "stdout",
     "output_type": "stream",
     "text": [
      "Upper limit 2.6839339521095473\n",
      "Lower limit -2.8329505724556756\n"
     ]
    }
   ],
   "source": [
    "iqr_upper_limit = q2 + 1.5 * iqr\n",
    "iqr_lower_limit = q1 - 1.5 * iqr\n",
    "print(\"Upper limit\", iqr_upper_limit)\n",
    "print(\"Lower limit\", iqr_lower_limit)"
   ]
  },
  {
   "cell_type": "code",
   "execution_count": 81,
   "id": "7934cd62-3351-48bc-bdc5-1da5de41731f",
   "metadata": {},
   "outputs": [],
   "source": [
    "dt['TotalPay'] = np.where(\n",
    "dt['TotalPay'] > iqr_upper_limit,\n",
    "iqr_upper_limit,\n",
    "np.where(\n",
    "dt['TotalPay'] < iqr_lower_limit,\n",
    "iqr_lower_limit,\n",
    "dt['TotalPay']\n",
    ")\n",
    ")"
   ]
  },
  {
   "cell_type": "code",
   "execution_count": 82,
   "id": "21a2d68a-2be8-4db4-9228-596aa86bb405",
   "metadata": {},
   "outputs": [
    {
     "data": {
      "text/plain": [
       "<Axes: ylabel='TotalPay'>"
      ]
     },
     "execution_count": 82,
     "metadata": {},
     "output_type": "execute_result"
    },
    {
     "data": {
      "image/png": "[encoded data removed]",
      "text/plain": [
       "<Figure size 640x480 with 1 Axes>"
      ]
     },
     "metadata": {},
     "output_type": "display_data"
    }
   ],
   "source": [
    "sns.boxplot(dt['TotalPay'])"
   ]
  },
  {
   "cell_type": "code",
   "execution_count": 87,
   "id": "a78dd135-c430-46b2-bc39-04c6ef4177c5",
   "metadata": {},
   "outputs": [
    {
     "data": {
      "text/plain": [
       "<Axes: ylabel='Benefits'>"
      ]
     },
     "execution_count": 87,
     "metadata": {},
     "output_type": "execute_result"
    },
    {
     "data": {
      "image/png": "[encoded data removed]",
      "text/plain": [
       "<Figure size 640x480 with 1 Axes>"
      ]
     },
     "metadata": {},
     "output_type": "display_data"
    }
   ],
   "source": [
    "sns.boxplot(dt['Benefits'])"
   ]
  },
  {
   "cell_type": "code",
   "execution_count": 88,
   "id": "756e7daa-c6b5-42aa-8e86-866233946b23",
   "metadata": {},
   "outputs": [
    {
     "name": "stdout",
     "output_type": "stream",
     "text": [
      "22341.4525\n",
      "33468.98\n",
      "11127.527500000004\n"
     ]
    }
   ],
   "source": [
    "q1 = dt['Benefits'].quantile(0.25)\n",
    "q2 = dt['Benefits'].quantile(0.75)\n",
    "iqr = q2 - q1\n",
    "print(q1)\n",
    "print(q2)\n",
    "print(iqr)"
   ]
  },
  {
   "cell_type": "code",
   "execution_count": 89,
   "id": "dd805fb0-6a4c-4fad-a090-0199d9bded4a",
   "metadata": {},
   "outputs": [
    {
     "name": "stdout",
     "output_type": "stream",
     "text": [
      "Upper limit 50160.271250000005\n",
      "Lower limit 5650.161249999994\n"
     ]
    }
   ],
   "source": [
    "iqr_upper_limit = q2 + 1.5 * iqr\n",
    "iqr_lower_limit = q1 - 1.5 * iqr\n",
    "print(\"Upper limit\", iqr_upper_limit)\n",
    "print(\"Lower limit\", iqr_lower_limit)"
   ]
  },
  {
   "cell_type": "code",
   "execution_count": 90,
   "id": "7875d733-f3b1-479f-b7b8-401bf4097b21",
   "metadata": {},
   "outputs": [],
   "source": [
    "dt['Benefits'] = np.where(\n",
    "dt['Benefits'] > iqr_upper_limit,\n",
    "iqr_upper_limit,\n",
    "np.where(\n",
    "dt['Benefits'] < iqr_lower_limit,\n",
    "iqr_lower_limit,\n",
    "dt['Benefits'])\n",
    ")"
   ]
  },
  {
   "cell_type": "code",
   "execution_count": 91,
   "id": "991daef8-4280-44fe-b35a-0a45c096f25a",
   "metadata": {},
   "outputs": [
    {
     "data": {
      "text/plain": [
       "<Axes: ylabel='Benefits'>"
      ]
     },
     "execution_count": 91,
     "metadata": {},
     "output_type": "execute_result"
    },
    {
     "data": {
      "image/png": "[encoded data removed]",
      "text/plain": [
       "<Figure size 640x480 with 1 Axes>"
      ]
     },
     "metadata": {},
     "output_type": "display_data"
    }
   ],
   "source": [
    "sns.boxplot(dt['Benefits'])"
   ]
  },
  {
   "cell_type": "code",
   "execution_count": 83,
   "id": "6aeeddc0-0f84-403a-996c-6ddab299e071",
   "metadata": {},
   "outputs": [
    {
     "data": {
      "text/plain": [
       "<Axes: xlabel='TotalPay', ylabel='Count'>"
      ]
     },
     "execution_count": 83,
     "metadata": {},
     "output_type": "execute_result"
    },
    {
     "data": {
      "image/png": "[encoded data removed]",
      "text/plain": [
       "<Figure size 640x480 with 1 Axes>"
      ]
     },
     "metadata": {},
     "output_type": "display_data"
    }
   ],
   "source": [
    "sns.histplot(dt['TotalPay'],fill=True)"
   ]
  },
  {
   "cell_type": "code",
   "execution_count": 84,
   "id": "c0992ac7-b034-405c-b36b-7a5427c0e847",
   "metadata": {},
   "outputs": [
    {
     "data": {
      "text/plain": [
       "<Axes: >"
      ]
     },
     "execution_count": 84,
     "metadata": {},
     "output_type": "execute_result"
    },
    {
     "data": {
      "image/png": "[encoded data removed]",
      "text/plain": [
       "<Figure size 640x480 with 2 Axes>"
      ]
     },
     "metadata": {},
     "output_type": "display_data"
    }
   ],
   "source": [
    "sns.heatmap(dt.corr(numeric_only=True),cmap=\"YlGnBu\", annot=True,linecolor='white')"
   ]
  },
  {
   "cell_type": "code",
   "execution_count": 85,
   "id": "7c4fb5dc-86ee-4da7-bc63-8866d6ebac67",
   "metadata": {},
   "outputs": [
    {
     "data": {
      "text/plain": [
       "<Axes: ylabel='Year'>"
      ]
     },
     "execution_count": 85,
     "metadata": {},
     "output_type": "execute_result"
    },
    {
     "data": {
      "image/png": "[encoded data removed]",
      "text/plain": [
       "<Figure size 640x480 with 1 Axes>"
      ]
     },
     "metadata": {},
     "output_type": "display_data"
    }
   ],
   "source": [
    "sns.lineplot(dt['Year'])"
   ]
  },
  {
   "cell_type": "code",
   "execution_count": 86,
   "id": "d42f2a95-a3c0-4fa7-82a8-92d62e2a897c",
   "metadata": {},
   "outputs": [
    {
     "data": {
      "text/plain": [
       "<seaborn.axisgrid.FacetGrid at 0x22621f77170>"
      ]
     },
     "execution_count": 86,
     "metadata": {},
     "output_type": "execute_result"
    },
    {
     "data": {
      "image/png": "[encoded data removed]",
      "text/plain": [
       "<Figure size 500x500 with 1 Axes>"
      ]
     },
     "metadata": {},
     "output_type": "display_data"
    },
    {
     "data": {
      "image/png": "[encoded data removed]",
      "text/plain": [
       "<Figure size 500x500 with 1 Axes>"
      ]
     },
     "metadata": {},
     "output_type": "display_data"
    }
   ],
   "source": [
    "sns.displot(dt[\"Year\"].value_counts(),kind='kde')\n",
    "sns.displot(dt['Year'],kind='kde')"
   ]
  },
  {
   "cell_type": "code",
   "execution_count": null,
   "id": "c17d1f16-7546-4ef8-b792-6a4339e10492",
   "metadata": {},
   "outputs": [],
   "source": []
  }
 ],
 "metadata": {
  "kernelspec": {
   "display_name": "Python 3 (ipykernel)",
   "language": "python",
   "name": "python3"
  },
  "language_info": {
   "codemirror_mode": {
    "name": "ipython",
    "version": 3
   },
   "file_extension": ".py",
   "mimetype": "text/x-python",
   "name": "python",
   "nbconvert_exporter": "python",
   "pygments_lexer": "ipython3",
   "version": "3.12.4"
  }
 },
 "nbformat": 4,
 "nbformat_minor": 5
}
